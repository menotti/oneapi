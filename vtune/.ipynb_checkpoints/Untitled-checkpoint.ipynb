{
 "cells": [
  {
   "cell_type": "markdown",
   "id": "dd9dc53d-db27-4816-b507-80d198e5873f",
   "metadata": {},
   "source": [
    "# VTune\n",
    "\n"
   ]
  },
  {
   "cell_type": "code",
   "execution_count": 14,
   "id": "3e1fc6c0-ed83-4da1-872c-ab54c2a145c2",
   "metadata": {},
   "outputs": [
    {
     "data": {
      "text/html": [
       "<div>\n",
       "<style scoped>\n",
       "    .dataframe tbody tr th:only-of-type {\n",
       "        vertical-align: middle;\n",
       "    }\n",
       "\n",
       "    .dataframe tbody tr th {\n",
       "        vertical-align: top;\n",
       "    }\n",
       "\n",
       "    .dataframe thead tr th {\n",
       "        text-align: left;\n",
       "    }\n",
       "\n",
       "    .dataframe thead tr:last-of-type th {\n",
       "        text-align: right;\n",
       "    }\n",
       "</style>\n",
       "<table border=\"1\" class=\"dataframe\">\n",
       "  <thead>\n",
       "    <tr>\n",
       "      <th></th>\n",
       "      <th></th>\n",
       "      <th>executions</th>\n",
       "      <th colspan=\"2\" halign=\"left\">execution_time_s</th>\n",
       "    </tr>\n",
       "    <tr>\n",
       "      <th></th>\n",
       "      <th></th>\n",
       "      <th>count</th>\n",
       "      <th>mean</th>\n",
       "      <th>std</th>\n",
       "    </tr>\n",
       "    <tr>\n",
       "      <th>platform</th>\n",
       "      <th>version</th>\n",
       "      <th></th>\n",
       "      <th></th>\n",
       "      <th></th>\n",
       "    </tr>\n",
       "  </thead>\n",
       "  <tbody>\n",
       "    <tr>\n",
       "      <th rowspan=\"3\" valign=\"top\">Running on Intel(R) Xeon(R) Gold 6128 CPU @ 3.40GHz</th>\n",
       "      <th>multiply1</th>\n",
       "      <td>10</td>\n",
       "      <td>0.473350</td>\n",
       "      <td>0.010786</td>\n",
       "    </tr>\n",
       "    <tr>\n",
       "      <th>multiply1_1</th>\n",
       "      <td>10</td>\n",
       "      <td>0.472813</td>\n",
       "      <td>0.013461</td>\n",
       "    </tr>\n",
       "    <tr>\n",
       "      <th>multiply1_2</th>\n",
       "      <td>10</td>\n",
       "      <td>0.467650</td>\n",
       "      <td>0.019915</td>\n",
       "    </tr>\n",
       "  </tbody>\n",
       "</table>\n",
       "</div>"
      ],
      "text/plain": [
       "                                                               executions  \\\n",
       "                                                                    count   \n",
       "platform                                           version                  \n",
       "Running on Intel(R) Xeon(R) Gold 6128 CPU @ 3.4... multiply1           10   \n",
       "                                                   multiply1_1         10   \n",
       "                                                   multiply1_2         10   \n",
       "\n",
       "                                                               execution_time_s  \\\n",
       "                                                                           mean   \n",
       "platform                                           version                        \n",
       "Running on Intel(R) Xeon(R) Gold 6128 CPU @ 3.4... multiply1           0.473350   \n",
       "                                                   multiply1_1         0.472813   \n",
       "                                                   multiply1_2         0.467650   \n",
       "\n",
       "                                                                          \n",
       "                                                                     std  \n",
       "platform                                           version                \n",
       "Running on Intel(R) Xeon(R) Gold 6128 CPU @ 3.4... multiply1    0.010786  \n",
       "                                                   multiply1_1  0.013461  \n",
       "                                                   multiply1_2  0.019915  "
      ]
     },
     "execution_count": 14,
     "metadata": {},
     "output_type": "execute_result"
    }
   ],
   "source": [
    "import os\n",
    "import platform\n",
    "import subprocess\n",
    "import pandas as pd\n",
    "import numpy\n",
    "from IPython.display import Image\n",
    "\n",
    "RUNS = 10\n",
    "\n",
    "FILENAME = 'MM.csv'\n",
    "\n",
    "def system_info():\n",
    "    print(os.name, platform.system(), platform.release())\n",
    "    print(os.popen(\"clinfo | grep -B 2 -A 4 'Device Vendor ID'\").read())\n",
    "    print(os.popen(\"clinfo | grep NOTE -A 3\").read())\n",
    "    \n",
    "# Creating Pandas DataFrame \n",
    "if os.path.isfile(FILENAME):\n",
    "    df = pd.read_csv(FILENAME)\n",
    "else:\n",
    "    df = pd.DataFrame({\"version\": [], \"platform\": [], \"execution_time_s\": []})\n",
    "    \n",
    "# List previous data\n",
    "# List previous data (average)\n",
    "df.groupby(['platform', 'version']) \\\n",
    "  .agg({'version':'count', 'execution_time_s':['mean', 'std']}) \\\n",
    "  .rename(columns={'version':'count','version':'executions'})# Creating Pandas DataFrame"
   ]
  },
  {
   "cell_type": "code",
   "execution_count": 11,
   "id": "627a9059-fb65-4206-8c63-e7543deeccf1",
   "metadata": {},
   "outputs": [],
   "source": [
    "for i in range(RUNS): \n",
    "    run = subprocess.Popen(\"./matrix.dpcpp\",\n",
    "                           cwd = \"matrix_multiply_vtune/src/\",\n",
    "                           shell = True,\n",
    "                           stdout = subprocess.PIPE,\n",
    "                           stderr = subprocess.PIPE,\n",
    "                           universal_newlines = True)\n",
    "    result = run.communicate()[0].split(\"\\n\")\n",
    "    df = df.append(pd.DataFrame({\"version\"          : [result[0]], \n",
    "                                 \"platform\"         : [result[1]], \n",
    "                                 \"execution_time_s\": [float(result[2])]}), sort=False)\n",
    "          \n",
    "df.to_csv(FILENAME, index = False, header = True)"
   ]
  },
  {
   "cell_type": "code",
   "execution_count": 16,
   "id": "dd97c708-0a3e-4542-b315-f2e7497e1b39",
   "metadata": {},
   "outputs": [
    {
     "data": {
      "image/png": "[encoded data removed]",
      "text/plain": [
       "<Figure size 720x576 with 1 Axes>"
      ]
     },
     "metadata": {
      "needs_background": "light"
     },
     "output_type": "display_data"
    }
   ],
   "source": [
    "# Plot results\n",
    "import pandas as pd\n",
    "import matplotlib.pyplot as plt\n",
    "import numpy as np\n",
    "\n",
    "df = pd.read_csv(FILENAME)\n",
    "df[\"version\"] = pd.Categorical(df[\"version\"])\n",
    "df_pivot = pd.pivot_table(\n",
    "    df,\n",
    "    values = \"execution_time_s\",\n",
    "    index = \"platform\",\n",
    "    columns = \"version\",\n",
    "    aggfunc = np.mean   \n",
    ")\n",
    "\n",
    "# Plot a bar chart using the DF\n",
    "ax = df_pivot.plot(kind=\"bar\")\n",
    "# Get a Matplotlib figure from the axes object for formatting purposes\n",
    "fig = ax.get_figure()\n",
    "# Change the plot dimensions (width, height)\n",
    "fig.set_size_inches(10, 8)\n",
    "# Change the axes labels\n",
    "ax.set_xlabel(\"Platforms\")\n",
    "ax.set_ylabel(\"Execution time (s)\")\n",
    "\n",
    "# Use this to show the plot in a new window\n",
    "# plt.show()\n",
    "# Export the plot as a PNG file\n",
    "fig.savefig(\"page_views_barplot.png\")"
   ]
  },
  {
   "cell_type": "code",
   "execution_count": null,
   "id": "5036f0c3-ef66-4588-b459-ff358ebbc4be",
   "metadata": {},
   "outputs": [],
   "source": []
  }
 ],
 "metadata": {
  "kernelspec": {
   "display_name": "Python 3.8 (Intel® oneAPI)",
   "language": "python",
   "name": "c009-intel_distribution_of_python_3_oneapi-beta05-python"
  },
  "language_info": {
   "codemirror_mode": {
    "name": "ipython",
    "version": 3
   },
   "file_extension": ".py",
   "mimetype": "text/x-python",
   "name": "python",
   "nbconvert_exporter": "python",
   "pygments_lexer": "ipython3",
   "version": "3.9.10"
  }
 },
 "nbformat": 4,
 "nbformat_minor": 5
}
